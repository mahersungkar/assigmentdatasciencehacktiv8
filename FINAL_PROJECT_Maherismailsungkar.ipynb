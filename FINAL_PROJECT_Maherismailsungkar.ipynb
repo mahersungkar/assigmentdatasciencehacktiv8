{
  "cells": [
    {
      "cell_type": "markdown",
      "id": "3cf378b2",
      "metadata": {
        "id": "3cf378b2"
      },
      "source": [
        "# Perkenalan\n",
        "\n",
        "Dalam proyek ini, kita akan bekerja pada klasifikasi aktivitas manusia berdasarkan data sensor yang diberikan. Aktivitas manusia seperti berdiri, berjalan, berlari, dll. dapat dikenali dengan memanfaatkan data dari sensor yang ditempelkan pada tubuh manusia. Data yang kita gunakan berasal dari sensor yang mungkin terpasang pada ponsel pintar atau perangkat wearable lainnya. Tujuannya adalah untuk membangun model klasifikasi yang dapat dengan akurat memprediksi aktivitas mana yang sedang dilakukan berdasarkan data sensor yang diberikan.link dataset:[di sini](https://www.kaggle.com/datasets/uciml/human-activity-recognition-with-smartphones)\n",
        "\n",
        "\n",
        "Selanjutnya, kita akan melanjutkan dengan  Impor Pustaka yang Dibutuhkan."
      ]
    },
    {
      "cell_type": "code",
      "execution_count": null,
      "id": "b75c27c0",
      "metadata": {
        "id": "b75c27c0",
        "outputId": "be27ab40-b2fd-443c-da70-8e1acc9c8023"
      },
      "outputs": [
        {
          "data": {
            "text/html": [
              "<div>\n",
              "<style scoped>\n",
              "    .dataframe tbody tr th:only-of-type {\n",
              "        vertical-align: middle;\n",
              "    }\n",
              "\n",
              "    .dataframe tbody tr th {\n",
              "        vertical-align: top;\n",
              "    }\n",
              "\n",
              "    .dataframe thead th {\n",
              "        text-align: right;\n",
              "    }\n",
              "</style>\n",
              "<table border=\"1\" class=\"dataframe\">\n",
              "  <thead>\n",
              "    <tr style=\"text-align: right;\">\n",
              "      <th></th>\n",
              "      <th>tBodyAcc-mean()-X</th>\n",
              "      <th>tBodyAcc-mean()-Y</th>\n",
              "      <th>tBodyAcc-mean()-Z</th>\n",
              "      <th>tBodyAcc-std()-X</th>\n",
              "      <th>tBodyAcc-std()-Y</th>\n",
              "      <th>tBodyAcc-std()-Z</th>\n",
              "      <th>tBodyAcc-mad()-X</th>\n",
              "      <th>tBodyAcc-mad()-Y</th>\n",
              "      <th>tBodyAcc-mad()-Z</th>\n",
              "      <th>tBodyAcc-max()-X</th>\n",
              "      <th>...</th>\n",
              "      <th>fBodyBodyGyroJerkMag-kurtosis()</th>\n",
              "      <th>angle(tBodyAccMean,gravity)</th>\n",
              "      <th>angle(tBodyAccJerkMean),gravityMean)</th>\n",
              "      <th>angle(tBodyGyroMean,gravityMean)</th>\n",
              "      <th>angle(tBodyGyroJerkMean,gravityMean)</th>\n",
              "      <th>angle(X,gravityMean)</th>\n",
              "      <th>angle(Y,gravityMean)</th>\n",
              "      <th>angle(Z,gravityMean)</th>\n",
              "      <th>subject</th>\n",
              "      <th>Activity</th>\n",
              "    </tr>\n",
              "  </thead>\n",
              "  <tbody>\n",
              "    <tr>\n",
              "      <th>0</th>\n",
              "      <td>0.288585</td>\n",
              "      <td>-0.020294</td>\n",
              "      <td>-0.132905</td>\n",
              "      <td>-0.995279</td>\n",
              "      <td>-0.983111</td>\n",
              "      <td>-0.913526</td>\n",
              "      <td>-0.995112</td>\n",
              "      <td>-0.983185</td>\n",
              "      <td>-0.923527</td>\n",
              "      <td>-0.934724</td>\n",
              "      <td>...</td>\n",
              "      <td>-0.710304</td>\n",
              "      <td>-0.112754</td>\n",
              "      <td>0.030400</td>\n",
              "      <td>-0.464761</td>\n",
              "      <td>-0.018446</td>\n",
              "      <td>-0.841247</td>\n",
              "      <td>0.179941</td>\n",
              "      <td>-0.058627</td>\n",
              "      <td>1</td>\n",
              "      <td>STANDING</td>\n",
              "    </tr>\n",
              "    <tr>\n",
              "      <th>1</th>\n",
              "      <td>0.278419</td>\n",
              "      <td>-0.016411</td>\n",
              "      <td>-0.123520</td>\n",
              "      <td>-0.998245</td>\n",
              "      <td>-0.975300</td>\n",
              "      <td>-0.960322</td>\n",
              "      <td>-0.998807</td>\n",
              "      <td>-0.974914</td>\n",
              "      <td>-0.957686</td>\n",
              "      <td>-0.943068</td>\n",
              "      <td>...</td>\n",
              "      <td>-0.861499</td>\n",
              "      <td>0.053477</td>\n",
              "      <td>-0.007435</td>\n",
              "      <td>-0.732626</td>\n",
              "      <td>0.703511</td>\n",
              "      <td>-0.844788</td>\n",
              "      <td>0.180289</td>\n",
              "      <td>-0.054317</td>\n",
              "      <td>1</td>\n",
              "      <td>STANDING</td>\n",
              "    </tr>\n",
              "    <tr>\n",
              "      <th>2</th>\n",
              "      <td>0.279653</td>\n",
              "      <td>-0.019467</td>\n",
              "      <td>-0.113462</td>\n",
              "      <td>-0.995380</td>\n",
              "      <td>-0.967187</td>\n",
              "      <td>-0.978944</td>\n",
              "      <td>-0.996520</td>\n",
              "      <td>-0.963668</td>\n",
              "      <td>-0.977469</td>\n",
              "      <td>-0.938692</td>\n",
              "      <td>...</td>\n",
              "      <td>-0.760104</td>\n",
              "      <td>-0.118559</td>\n",
              "      <td>0.177899</td>\n",
              "      <td>0.100699</td>\n",
              "      <td>0.808529</td>\n",
              "      <td>-0.848933</td>\n",
              "      <td>0.180637</td>\n",
              "      <td>-0.049118</td>\n",
              "      <td>1</td>\n",
              "      <td>STANDING</td>\n",
              "    </tr>\n",
              "    <tr>\n",
              "      <th>3</th>\n",
              "      <td>0.279174</td>\n",
              "      <td>-0.026201</td>\n",
              "      <td>-0.123283</td>\n",
              "      <td>-0.996091</td>\n",
              "      <td>-0.983403</td>\n",
              "      <td>-0.990675</td>\n",
              "      <td>-0.997099</td>\n",
              "      <td>-0.982750</td>\n",
              "      <td>-0.989302</td>\n",
              "      <td>-0.938692</td>\n",
              "      <td>...</td>\n",
              "      <td>-0.482845</td>\n",
              "      <td>-0.036788</td>\n",
              "      <td>-0.012892</td>\n",
              "      <td>0.640011</td>\n",
              "      <td>-0.485366</td>\n",
              "      <td>-0.848649</td>\n",
              "      <td>0.181935</td>\n",
              "      <td>-0.047663</td>\n",
              "      <td>1</td>\n",
              "      <td>STANDING</td>\n",
              "    </tr>\n",
              "    <tr>\n",
              "      <th>4</th>\n",
              "      <td>0.276629</td>\n",
              "      <td>-0.016570</td>\n",
              "      <td>-0.115362</td>\n",
              "      <td>-0.998139</td>\n",
              "      <td>-0.980817</td>\n",
              "      <td>-0.990482</td>\n",
              "      <td>-0.998321</td>\n",
              "      <td>-0.979672</td>\n",
              "      <td>-0.990441</td>\n",
              "      <td>-0.942469</td>\n",
              "      <td>...</td>\n",
              "      <td>-0.699205</td>\n",
              "      <td>0.123320</td>\n",
              "      <td>0.122542</td>\n",
              "      <td>0.693578</td>\n",
              "      <td>-0.615971</td>\n",
              "      <td>-0.847865</td>\n",
              "      <td>0.185151</td>\n",
              "      <td>-0.043892</td>\n",
              "      <td>1</td>\n",
              "      <td>STANDING</td>\n",
              "    </tr>\n",
              "  </tbody>\n",
              "</table>\n",
              "<p>5 rows × 563 columns</p>\n",
              "</div>"
            ],
            "text/plain": [
              "   tBodyAcc-mean()-X  tBodyAcc-mean()-Y  tBodyAcc-mean()-Z  tBodyAcc-std()-X  \\\n",
              "0           0.288585          -0.020294          -0.132905         -0.995279   \n",
              "1           0.278419          -0.016411          -0.123520         -0.998245   \n",
              "2           0.279653          -0.019467          -0.113462         -0.995380   \n",
              "3           0.279174          -0.026201          -0.123283         -0.996091   \n",
              "4           0.276629          -0.016570          -0.115362         -0.998139   \n",
              "\n",
              "   tBodyAcc-std()-Y  tBodyAcc-std()-Z  tBodyAcc-mad()-X  tBodyAcc-mad()-Y  \\\n",
              "0         -0.983111         -0.913526         -0.995112         -0.983185   \n",
              "1         -0.975300         -0.960322         -0.998807         -0.974914   \n",
              "2         -0.967187         -0.978944         -0.996520         -0.963668   \n",
              "3         -0.983403         -0.990675         -0.997099         -0.982750   \n",
              "4         -0.980817         -0.990482         -0.998321         -0.979672   \n",
              "\n",
              "   tBodyAcc-mad()-Z  tBodyAcc-max()-X  ...  fBodyBodyGyroJerkMag-kurtosis()  \\\n",
              "0         -0.923527         -0.934724  ...                        -0.710304   \n",
              "1         -0.957686         -0.943068  ...                        -0.861499   \n",
              "2         -0.977469         -0.938692  ...                        -0.760104   \n",
              "3         -0.989302         -0.938692  ...                        -0.482845   \n",
              "4         -0.990441         -0.942469  ...                        -0.699205   \n",
              "\n",
              "   angle(tBodyAccMean,gravity)  angle(tBodyAccJerkMean),gravityMean)  \\\n",
              "0                    -0.112754                              0.030400   \n",
              "1                     0.053477                             -0.007435   \n",
              "2                    -0.118559                              0.177899   \n",
              "3                    -0.036788                             -0.012892   \n",
              "4                     0.123320                              0.122542   \n",
              "\n",
              "   angle(tBodyGyroMean,gravityMean)  angle(tBodyGyroJerkMean,gravityMean)  \\\n",
              "0                         -0.464761                             -0.018446   \n",
              "1                         -0.732626                              0.703511   \n",
              "2                          0.100699                              0.808529   \n",
              "3                          0.640011                             -0.485366   \n",
              "4                          0.693578                             -0.615971   \n",
              "\n",
              "   angle(X,gravityMean)  angle(Y,gravityMean)  angle(Z,gravityMean)  subject  \\\n",
              "0             -0.841247              0.179941             -0.058627        1   \n",
              "1             -0.844788              0.180289             -0.054317        1   \n",
              "2             -0.848933              0.180637             -0.049118        1   \n",
              "3             -0.848649              0.181935             -0.047663        1   \n",
              "4             -0.847865              0.185151             -0.043892        1   \n",
              "\n",
              "   Activity  \n",
              "0  STANDING  \n",
              "1  STANDING  \n",
              "2  STANDING  \n",
              "3  STANDING  \n",
              "4  STANDING  \n",
              "\n",
              "[5 rows x 563 columns]"
            ]
          },
          "execution_count": 1,
          "metadata": {},
          "output_type": "execute_result"
        }
      ],
      "source": [
        "import pandas as pd\n",
        "\n",
        "# Load the training dataset\n",
        "train_data = pd.read_csv('dataset/train.csv')\n",
        "\n",
        "# Display the first few rows of the training dataset\n",
        "train_data.head()\n",
        "\n"
      ]
    },
    {
      "cell_type": "markdown",
      "id": "a7329fc1",
      "metadata": {
        "id": "a7329fc1"
      },
      "source": [
        "Berdasarkan tampilan awal dari dataset pelatihan, kita memiliki:\n",
        "\n",
        "   * 562 fitur yang berbeda, kebanyakan dari fitur tersebut tampaknya merupakan data sensor dari pengukuran aktivitas manusia.\n",
        "   * Kolom target bernama \"Activity\" yang merupakan klasifikasi dari aktivitas manusia\n",
        "\n",
        "Maka dari itu, proyek yang paling sesuai dengan data ini adalah  Klasifikasi  dengan tujuan untuk memprediksi jenis aktivitas manusia berdasarkan fitur-fitur yang diberikan.\n",
        "\n",
        "Dengan demikian, kita akan melanjutkan dengan langkah-langkah yang diberikan dalam panduan. Mari kita mulai dengan Pengenalan"
      ]
    },
    {
      "cell_type": "code",
      "execution_count": null,
      "id": "e32f70f6",
      "metadata": {
        "id": "e32f70f6"
      },
      "outputs": [],
      "source": [
        "# Impor Pustaka yang Dibutuhkan\n",
        "\n",
        "import numpy as np\n",
        "import matplotlib.pyplot as plt\n",
        "import seaborn as sns\n",
        "\n",
        "from sklearn.model_selection import train_test_split\n",
        "from sklearn.preprocessing import StandardScaler, LabelEncoder\n",
        "from sklearn.ensemble import RandomForestClassifier\n",
        "from sklearn.metrics import classification_report, confusion_matrix, accuracy_score\n",
        "\n",
        "# Set style for seaborn\n",
        "sns.set_style(\"whitegrid\")\n"
      ]
    },
    {
      "cell_type": "markdown",
      "id": "181228db",
      "metadata": {
        "id": "181228db"
      },
      "source": [
        "Dengan pustaka yang telah diimpor, kita dapat melanjutkan ke langkah berikutnya, yaitu Pemuatan Data & Analisis Data Eksplorasi.\n",
        "\n",
        "Di langkah ini, kita akan melihat distribusi kelas dari aktivitas manusia di dataset. Ini akan memberikan kita gambaran tentang seimbang tidaknya kelas dalam data kita."
      ]
    },
    {
      "cell_type": "code",
      "execution_count": null,
      "id": "68eeabfc",
      "metadata": {
        "id": "68eeabfc",
        "outputId": "e8366b9c-44dd-4c4d-c9b8-caa474d86e57"
      },
      "outputs": [
        {
          "data": {
            "image/png": "[encoded data removed]",
            "text/plain": [
              "<Figure size 1200x600 with 1 Axes>"
            ]
          },
          "metadata": {},
          "output_type": "display_data"
        }
      ],
      "source": [
        "# Pemuatan Data & Analisis Data Eksplorasi\n",
        "\n",
        "# Plotting the distribution of activities in the dataset\n",
        "plt.figure(figsize=(12, 6))\n",
        "sns.countplot(data=train_data, x='Activity')\n",
        "plt.title('Distribusi Kelas Aktivitas Manusia')\n",
        "plt.xticks(rotation=45)\n",
        "plt.show()\n"
      ]
    },
    {
      "cell_type": "markdown",
      "id": "2e4f1f5b",
      "metadata": {
        "id": "2e4f1f5b"
      },
      "source": [
        "Dari visualisasi di atas, kita dapat melihat bahwa data kita memiliki distribusi kelas yang relatif seimbang untuk setiap aktivitas manusia. Ini merupakan hal yang baik karena tidak ada kelas yang mendominasi secara signifikan.\n",
        "\n",
        "Mari kita lanjutkan ke tahap Pemrosesan Awal Data.\n",
        "\n",
        "Di tahap ini, kita akan:\n",
        "\n",
        "    1.Memisahkan fitur dan target dari dataset.\n",
        "    2.Melakukan pemisahan data menjadi set pelatihan dan pengujian.\n",
        "    3.Melakukan penskalaan fitur untuk meningkatkan performa model nantinya."
      ]
    },
    {
      "cell_type": "code",
      "execution_count": null,
      "id": "a982369d",
      "metadata": {
        "id": "a982369d",
        "outputId": "c910a18e-93f7-434a-8318-a02307a72f08"
      },
      "outputs": [
        {
          "data": {
            "text/plain": [
              "((5881, 562), (1471, 562))"
            ]
          },
          "execution_count": 4,
          "metadata": {},
          "output_type": "execute_result"
        }
      ],
      "source": [
        "# Pemrosesan Awal Data\n",
        "\n",
        "# Split the features and target variable\n",
        "X = train_data.drop(\"Activity\", axis=1)\n",
        "y = train_data[\"Activity\"]\n",
        "\n",
        "# Label encoding the target variable\n",
        "label_encoder = LabelEncoder()\n",
        "y_encoded = label_encoder.fit_transform(y)\n",
        "\n",
        "# Splitting the dataset into training and testing sets\n",
        "X_train, X_test, y_train, y_test = train_test_split(X, y_encoded, test_size=0.2, random_state=42)\n",
        "\n",
        "# Feature scaling\n",
        "scaler = StandardScaler()\n",
        "X_train_scaled = scaler.fit_transform(X_train)\n",
        "X_test_scaled = scaler.transform(X_test)\n",
        "\n",
        "X_train_scaled.shape, X_test_scaled.shape\n"
      ]
    },
    {
      "cell_type": "markdown",
      "id": "4ba64a29",
      "metadata": {
        "id": "4ba64a29"
      },
      "source": [
        "Data telah berhasil diproses dan dibagi menjadi set pelatihan dan pengujian. Kita memiliki 5881 sampel dalam set pelatihan dan 1471 sampel dalam set pengujian, dengan masing-masing memiliki 562 fitur.\n",
        "\n",
        "Sekarang, kita akan melanjutkan ke tahap Model Pendefinisian. Untuk proyek ini, kita akan menggunakan model RandomForest karena model ini sering kali memberikan hasil yang baik untuk tugas klasifikasi dan juga dapat menangani banyak fitur dengan baik"
      ]
    },
    {
      "cell_type": "code",
      "execution_count": null,
      "id": "c5769086",
      "metadata": {
        "id": "c5769086",
        "outputId": "9643f898-9b2f-4e5e-8ec5-71317fe890a7"
      },
      "outputs": [
        {
          "data": {
            "text/html": [
              "<style>#sk-container-id-1 {color: black;}#sk-container-id-1 pre{padding: 0;}#sk-container-id-1 div.sk-toggleable {background-color: white;}#sk-container-id-1 label.sk-toggleable__label {cursor: pointer;display: block;width: 100%;margin-bottom: 0;padding: 0.3em;box-sizing: border-box;text-align: center;}#sk-container-id-1 label.sk-toggleable__label-arrow:before {content: \"▸\";float: left;margin-right: 0.25em;color: #696969;}#sk-container-id-1 label.sk-toggleable__label-arrow:hover:before {color: black;}#sk-container-id-1 div.sk-estimator:hover label.sk-toggleable__label-arrow:before {color: black;}#sk-container-id-1 div.sk-toggleable__content {max-height: 0;max-width: 0;overflow: hidden;text-align: left;background-color: #f0f8ff;}#sk-container-id-1 div.sk-toggleable__content pre {margin: 0.2em;color: black;border-radius: 0.25em;background-color: #f0f8ff;}#sk-container-id-1 input.sk-toggleable__control:checked~div.sk-toggleable__content {max-height: 200px;max-width: 100%;overflow: auto;}#sk-container-id-1 input.sk-toggleable__control:checked~label.sk-toggleable__label-arrow:before {content: \"▾\";}#sk-container-id-1 div.sk-estimator input.sk-toggleable__control:checked~label.sk-toggleable__label {background-color: #d4ebff;}#sk-container-id-1 div.sk-label input.sk-toggleable__control:checked~label.sk-toggleable__label {background-color: #d4ebff;}#sk-container-id-1 input.sk-hidden--visually {border: 0;clip: rect(1px 1px 1px 1px);clip: rect(1px, 1px, 1px, 1px);height: 1px;margin: -1px;overflow: hidden;padding: 0;position: absolute;width: 1px;}#sk-container-id-1 div.sk-estimator {font-family: monospace;background-color: #f0f8ff;border: 1px dotted black;border-radius: 0.25em;box-sizing: border-box;margin-bottom: 0.5em;}#sk-container-id-1 div.sk-estimator:hover {background-color: #d4ebff;}#sk-container-id-1 div.sk-parallel-item::after {content: \"\";width: 100%;border-bottom: 1px solid gray;flex-grow: 1;}#sk-container-id-1 div.sk-label:hover label.sk-toggleable__label {background-color: #d4ebff;}#sk-container-id-1 div.sk-serial::before {content: \"\";position: absolute;border-left: 1px solid gray;box-sizing: border-box;top: 0;bottom: 0;left: 50%;z-index: 0;}#sk-container-id-1 div.sk-serial {display: flex;flex-direction: column;align-items: center;background-color: white;padding-right: 0.2em;padding-left: 0.2em;position: relative;}#sk-container-id-1 div.sk-item {position: relative;z-index: 1;}#sk-container-id-1 div.sk-parallel {display: flex;align-items: stretch;justify-content: center;background-color: white;position: relative;}#sk-container-id-1 div.sk-item::before, #sk-container-id-1 div.sk-parallel-item::before {content: \"\";position: absolute;border-left: 1px solid gray;box-sizing: border-box;top: 0;bottom: 0;left: 50%;z-index: -1;}#sk-container-id-1 div.sk-parallel-item {display: flex;flex-direction: column;z-index: 1;position: relative;background-color: white;}#sk-container-id-1 div.sk-parallel-item:first-child::after {align-self: flex-end;width: 50%;}#sk-container-id-1 div.sk-parallel-item:last-child::after {align-self: flex-start;width: 50%;}#sk-container-id-1 div.sk-parallel-item:only-child::after {width: 0;}#sk-container-id-1 div.sk-dashed-wrapped {border: 1px dashed gray;margin: 0 0.4em 0.5em 0.4em;box-sizing: border-box;padding-bottom: 0.4em;background-color: white;}#sk-container-id-1 div.sk-label label {font-family: monospace;font-weight: bold;display: inline-block;line-height: 1.2em;}#sk-container-id-1 div.sk-label-container {text-align: center;}#sk-container-id-1 div.sk-container {/* jupyter's `normalize.less` sets `[hidden] { display: none; }` but bootstrap.min.css set `[hidden] { display: none !important; }` so we also need the `!important` here to be able to override the default hidden behavior on the sphinx rendered scikit-learn.org. See: https://github.com/scikit-learn/scikit-learn/issues/21755 */display: inline-block !important;position: relative;}#sk-container-id-1 div.sk-text-repr-fallback {display: none;}</style><div id=\"sk-container-id-1\" class=\"sk-top-container\"><div class=\"sk-text-repr-fallback\"><pre>RandomForestClassifier(random_state=42)</pre><b>In a Jupyter environment, please rerun this cell to show the HTML representation or trust the notebook. <br />On GitHub, the HTML representation is unable to render, please try loading this page with nbviewer.org.</b></div><div class=\"sk-container\" hidden><div class=\"sk-item\"><div class=\"sk-estimator sk-toggleable\"><input class=\"sk-toggleable__control sk-hidden--visually\" id=\"sk-estimator-id-1\" type=\"checkbox\" checked><label for=\"sk-estimator-id-1\" class=\"sk-toggleable__label sk-toggleable__label-arrow\">RandomForestClassifier</label><div class=\"sk-toggleable__content\"><pre>RandomForestClassifier(random_state=42)</pre></div></div></div></div></div>"
            ],
            "text/plain": [
              "RandomForestClassifier(random_state=42)"
            ]
          },
          "execution_count": 5,
          "metadata": {},
          "output_type": "execute_result"
        }
      ],
      "source": [
        "# Model Pendefinisian\n",
        "\n",
        "# Defining the RandomForest Classifier\n",
        "model = RandomForestClassifier(n_estimators=100, random_state=42)\n",
        "model\n"
      ]
    },
    {
      "cell_type": "markdown",
      "id": "5d54f3ea",
      "metadata": {
        "id": "5d54f3ea"
      },
      "source": [
        "Kita telah mendefinisikan model RandomForest dengan 100 pohon keputusan. Alasan memilih RandomForest adalah karena model ini dapat menangani fitur berdimensi tinggi dengan baik dan sering memberikan hasil yang baik untuk tugas klasifikasi.\n",
        "\n",
        "Mari kita lanjutkan ke tahap Model Pelatihan di mana kita akan melatih model dengan set pelatihan yang telah disiapkan."
      ]
    },
    {
      "cell_type": "code",
      "execution_count": null,
      "id": "c0abc57e",
      "metadata": {
        "id": "c0abc57e",
        "outputId": "281c7b0f-5d42-4314-9df3-a4adc4e3e8a1"
      },
      "outputs": [
        {
          "data": {
            "text/html": [
              "<style>#sk-container-id-2 {color: black;}#sk-container-id-2 pre{padding: 0;}#sk-container-id-2 div.sk-toggleable {background-color: white;}#sk-container-id-2 label.sk-toggleable__label {cursor: pointer;display: block;width: 100%;margin-bottom: 0;padding: 0.3em;box-sizing: border-box;text-align: center;}#sk-container-id-2 label.sk-toggleable__label-arrow:before {content: \"▸\";float: left;margin-right: 0.25em;color: #696969;}#sk-container-id-2 label.sk-toggleable__label-arrow:hover:before {color: black;}#sk-container-id-2 div.sk-estimator:hover label.sk-toggleable__label-arrow:before {color: black;}#sk-container-id-2 div.sk-toggleable__content {max-height: 0;max-width: 0;overflow: hidden;text-align: left;background-color: #f0f8ff;}#sk-container-id-2 div.sk-toggleable__content pre {margin: 0.2em;color: black;border-radius: 0.25em;background-color: #f0f8ff;}#sk-container-id-2 input.sk-toggleable__control:checked~div.sk-toggleable__content {max-height: 200px;max-width: 100%;overflow: auto;}#sk-container-id-2 input.sk-toggleable__control:checked~label.sk-toggleable__label-arrow:before {content: \"▾\";}#sk-container-id-2 div.sk-estimator input.sk-toggleable__control:checked~label.sk-toggleable__label {background-color: #d4ebff;}#sk-container-id-2 div.sk-label input.sk-toggleable__control:checked~label.sk-toggleable__label {background-color: #d4ebff;}#sk-container-id-2 input.sk-hidden--visually {border: 0;clip: rect(1px 1px 1px 1px);clip: rect(1px, 1px, 1px, 1px);height: 1px;margin: -1px;overflow: hidden;padding: 0;position: absolute;width: 1px;}#sk-container-id-2 div.sk-estimator {font-family: monospace;background-color: #f0f8ff;border: 1px dotted black;border-radius: 0.25em;box-sizing: border-box;margin-bottom: 0.5em;}#sk-container-id-2 div.sk-estimator:hover {background-color: #d4ebff;}#sk-container-id-2 div.sk-parallel-item::after {content: \"\";width: 100%;border-bottom: 1px solid gray;flex-grow: 1;}#sk-container-id-2 div.sk-label:hover label.sk-toggleable__label {background-color: #d4ebff;}#sk-container-id-2 div.sk-serial::before {content: \"\";position: absolute;border-left: 1px solid gray;box-sizing: border-box;top: 0;bottom: 0;left: 50%;z-index: 0;}#sk-container-id-2 div.sk-serial {display: flex;flex-direction: column;align-items: center;background-color: white;padding-right: 0.2em;padding-left: 0.2em;position: relative;}#sk-container-id-2 div.sk-item {position: relative;z-index: 1;}#sk-container-id-2 div.sk-parallel {display: flex;align-items: stretch;justify-content: center;background-color: white;position: relative;}#sk-container-id-2 div.sk-item::before, #sk-container-id-2 div.sk-parallel-item::before {content: \"\";position: absolute;border-left: 1px solid gray;box-sizing: border-box;top: 0;bottom: 0;left: 50%;z-index: -1;}#sk-container-id-2 div.sk-parallel-item {display: flex;flex-direction: column;z-index: 1;position: relative;background-color: white;}#sk-container-id-2 div.sk-parallel-item:first-child::after {align-self: flex-end;width: 50%;}#sk-container-id-2 div.sk-parallel-item:last-child::after {align-self: flex-start;width: 50%;}#sk-container-id-2 div.sk-parallel-item:only-child::after {width: 0;}#sk-container-id-2 div.sk-dashed-wrapped {border: 1px dashed gray;margin: 0 0.4em 0.5em 0.4em;box-sizing: border-box;padding-bottom: 0.4em;background-color: white;}#sk-container-id-2 div.sk-label label {font-family: monospace;font-weight: bold;display: inline-block;line-height: 1.2em;}#sk-container-id-2 div.sk-label-container {text-align: center;}#sk-container-id-2 div.sk-container {/* jupyter's `normalize.less` sets `[hidden] { display: none; }` but bootstrap.min.css set `[hidden] { display: none !important; }` so we also need the `!important` here to be able to override the default hidden behavior on the sphinx rendered scikit-learn.org. See: https://github.com/scikit-learn/scikit-learn/issues/21755 */display: inline-block !important;position: relative;}#sk-container-id-2 div.sk-text-repr-fallback {display: none;}</style><div id=\"sk-container-id-2\" class=\"sk-top-container\"><div class=\"sk-text-repr-fallback\"><pre>RandomForestClassifier(random_state=42)</pre><b>In a Jupyter environment, please rerun this cell to show the HTML representation or trust the notebook. <br />On GitHub, the HTML representation is unable to render, please try loading this page with nbviewer.org.</b></div><div class=\"sk-container\" hidden><div class=\"sk-item\"><div class=\"sk-estimator sk-toggleable\"><input class=\"sk-toggleable__control sk-hidden--visually\" id=\"sk-estimator-id-2\" type=\"checkbox\" checked><label for=\"sk-estimator-id-2\" class=\"sk-toggleable__label sk-toggleable__label-arrow\">RandomForestClassifier</label><div class=\"sk-toggleable__content\"><pre>RandomForestClassifier(random_state=42)</pre></div></div></div></div></div>"
            ],
            "text/plain": [
              "RandomForestClassifier(random_state=42)"
            ]
          },
          "execution_count": 6,
          "metadata": {},
          "output_type": "execute_result"
        }
      ],
      "source": [
        "# Model Pelatihan\n",
        "\n",
        "# Training the RandomForest Classifier\n",
        "model.fit(X_train_scaled, y_train)\n"
      ]
    },
    {
      "cell_type": "markdown",
      "id": "ed4def5b",
      "metadata": {
        "id": "ed4def5b"
      },
      "source": [
        "Model RandomForest telah berhasil dilatih dengan set pelatihan.\n",
        "\n",
        "Selanjutnya, kita akan melanjutkan ke tahap Model Evaluasi. Di tahap ini, kita akan menggunakan set pengujian untuk mengevaluasi kinerja model yang telah dilatih. Kita akan melihat laporan klasifikasi dan matriks kebingungan untuk mendapatkan gambaran tentang kinerja model kita."
      ]
    },
    {
      "cell_type": "code",
      "execution_count": null,
      "id": "867d5fac",
      "metadata": {
        "id": "867d5fac",
        "outputId": "0145a793-ec03-4f63-e948-8b5a6fea825c"
      },
      "outputs": [
        {
          "data": {
            "text/plain": [
              "('                    precision    recall  f1-score   support\\n\\n            LAYING       1.00      1.00      1.00       280\\n           SITTING       0.97      0.95      0.96       262\\n          STANDING       0.96      0.97      0.96       276\\n           WALKING       1.00      0.99      0.99       247\\nWALKING_DOWNSTAIRS       0.99      0.98      0.98       206\\n  WALKING_UPSTAIRS       0.97      0.99      0.98       200\\n\\n          accuracy                           0.98      1471\\n         macro avg       0.98      0.98      0.98      1471\\n      weighted avg       0.98      0.98      0.98      1471\\n',\n",
              " <Axes: >)"
            ]
          },
          "execution_count": 7,
          "metadata": {},
          "output_type": "execute_result"
        },
        {
          "data": {
            "image/png": "[encoded data removed]",
            "text/plain": [
              "<Figure size 640x480 with 2 Axes>"
            ]
          },
          "metadata": {},
          "output_type": "display_data"
        }
      ],
      "source": [
        "# Model Evaluasi\n",
        "\n",
        "# Predicting the test set results\n",
        "y_pred = model.predict(X_test_scaled)\n",
        "\n",
        "# Evaluating the performance\n",
        "classification_rep = classification_report(y_test, y_pred, target_names=label_encoder.classes_)\n",
        "confusion_mat = confusion_matrix(y_test, y_pred)\n",
        "\n",
        "classification_rep, sns.heatmap(confusion_mat, annot=True, fmt=\"d\", cmap=\"Blues\", xticklabels=label_encoder.classes_, yticklabels=label_encoder.classes_)\n"
      ]
    },
    {
      "cell_type": "markdown",
      "id": "66901ab6",
      "metadata": {
        "id": "66901ab6"
      },
      "source": [
        "Hasil evaluasi model menunjukkan kinerja yang sangat baik:\n",
        "\n",
        "    *Akurasi keseluruhan model adalah sekitar 98%.\n",
        "    *Nilai presisi, recall, dan f1-score untuk setiap aktivitas juga sangat tinggi, menunjukkan bahwa model kita berhasil membedakan antara aktivitas yang berbeda dengan baik.\n",
        "\n",
        "Matriks kebingungan memberikan gambaran lebih lanjut tentang kinerja model kita. Dari matriks kebingungan, kita dapat melihat bahwa model kita memprediksi sebagian besar sampel dengan benar, dengan hanya beberapa kesalahan.\n",
        "\n",
        "Dengan kinerja yang baik ini, kita bisa melanjutkan ke tahap Penghematan Model. Di tahap ini, kita akan menyimpan model kita agar dapat digunakan kembali di masa depan."
      ]
    },
    {
      "cell_type": "code",
      "execution_count": null,
      "id": "8449bb51",
      "metadata": {
        "id": "8449bb51",
        "outputId": "dcec41b5-2695-4cde-f10c-77a2044a6811"
      },
      "outputs": [
        {
          "data": {
            "text/plain": [
              "'random_forest_activity_model.pkl'"
            ]
          },
          "execution_count": 8,
          "metadata": {},
          "output_type": "execute_result"
        }
      ],
      "source": [
        "import joblib\n",
        "\n",
        "# Penghematan Model\n",
        "\n",
        "# Saving the model\n",
        "model_filename = \"random_forest_activity_model.pkl\"\n",
        "joblib.dump(model, model_filename)\n",
        "\n",
        "model_filename\n"
      ]
    },
    {
      "cell_type": "markdown",
      "id": "2939e89e",
      "metadata": {
        "id": "2939e89e"
      },
      "source": [
        "Model RandomForest telah berhasil disimpan dengan nama \"random_forest_activity_model.pkl\".\n",
        "Selanjutnya, kita akan melanjutkan ke tahap Inferensi Model. Di tahap ini, kita akan menggunakan model yang sudah kita latih untuk melakukan prediksi pada data yang tidak termasuk dalam set pelatihan atau pengujian."
      ]
    },
    {
      "cell_type": "code",
      "execution_count": null,
      "id": "dd52c8ff",
      "metadata": {
        "id": "dd52c8ff",
        "outputId": "77a8c449-24fc-4d17-d65c-7e283d1feae2"
      },
      "outputs": [
        {
          "data": {
            "text/html": [
              "<div>\n",
              "<style scoped>\n",
              "    .dataframe tbody tr th:only-of-type {\n",
              "        vertical-align: middle;\n",
              "    }\n",
              "\n",
              "    .dataframe tbody tr th {\n",
              "        vertical-align: top;\n",
              "    }\n",
              "\n",
              "    .dataframe thead th {\n",
              "        text-align: right;\n",
              "    }\n",
              "</style>\n",
              "<table border=\"1\" class=\"dataframe\">\n",
              "  <thead>\n",
              "    <tr style=\"text-align: right;\">\n",
              "      <th></th>\n",
              "      <th>Actual Activity</th>\n",
              "      <th>Predicted Activity</th>\n",
              "    </tr>\n",
              "  </thead>\n",
              "  <tbody>\n",
              "    <tr>\n",
              "      <th>0</th>\n",
              "      <td>STANDING</td>\n",
              "      <td>STANDING</td>\n",
              "    </tr>\n",
              "    <tr>\n",
              "      <th>1</th>\n",
              "      <td>STANDING</td>\n",
              "      <td>STANDING</td>\n",
              "    </tr>\n",
              "    <tr>\n",
              "      <th>2</th>\n",
              "      <td>STANDING</td>\n",
              "      <td>STANDING</td>\n",
              "    </tr>\n",
              "    <tr>\n",
              "      <th>3</th>\n",
              "      <td>STANDING</td>\n",
              "      <td>STANDING</td>\n",
              "    </tr>\n",
              "    <tr>\n",
              "      <th>4</th>\n",
              "      <td>STANDING</td>\n",
              "      <td>STANDING</td>\n",
              "    </tr>\n",
              "  </tbody>\n",
              "</table>\n",
              "</div>"
            ],
            "text/plain": [
              "  Actual Activity Predicted Activity\n",
              "0        STANDING           STANDING\n",
              "1        STANDING           STANDING\n",
              "2        STANDING           STANDING\n",
              "3        STANDING           STANDING\n",
              "4        STANDING           STANDING"
            ]
          },
          "execution_count": 9,
          "metadata": {},
          "output_type": "execute_result"
        }
      ],
      "source": [
        "# Inferensi Model\n",
        "\n",
        "# Load the test dataset (external data)\n",
        "test_data = pd.read_csv('dataset/test.csv')\n",
        "\n",
        "# Separate the features and target variable\n",
        "X_infer = test_data.drop(\"Activity\", axis=1)\n",
        "y_infer = test_data[\"Activity\"]\n",
        "\n",
        "# Scaling the features\n",
        "X_infer_scaled = scaler.transform(X_infer)\n",
        "\n",
        "# Predicting using the trained model\n",
        "y_infer_pred = model.predict(X_infer_scaled)\n",
        "\n",
        "# Displaying the first few actual vs predicted values\n",
        "infer_comparison = pd.DataFrame({'Actual Activity': y_infer, 'Predicted Activity': label_encoder.inverse_transform(y_infer_pred)})\n",
        "infer_comparison.head()\n"
      ]
    },
    {
      "cell_type": "markdown",
      "id": "6414f467",
      "metadata": {
        "id": "6414f467"
      },
      "source": [
        "Hasil inferensi menunjukkan bahwa model kita berhasil memprediksi aktivitas dengan benar untuk data yang diberikan. Tabel di atas membandingkan aktivitas aktual dengan aktivitas yang diprediksi oleh model untuk beberapa sampel pertama.\n",
        "\n",
        "Selanjutnya, kita akan melanjutkan ke tahap  Kesimpulan."
      ]
    },
    {
      "cell_type": "markdown",
      "id": "e73bdbde",
      "metadata": {
        "id": "e73bdbde"
      },
      "source": [
        "# Kesimpulan\n",
        "\n",
        "Dalam proyek ini, kita berhasil membangun model klasifikasi untuk mengenali aktivitas manusia berdasarkan data sensor menggunakan algoritma RandomForest. Model menunjukkan kinerja yang sangat baik dengan akurasi sekitar 98% pada set pengujian. Hal ini menunjukkan bahwa dengan data sensor yang tepat dan pemrosesan yang benar, kita dapat dengan akurat mengidentifikasi aktivitas yang dilakukan oleh seseorang. Model ini dapat digunakan dalam berbagai aplikasi, seperti perangkat wearable untuk pemantauan kesehatan atau aplikasi fitness."
      ]
    },
    {
      "cell_type": "code",
      "execution_count": null,
      "id": "95cf6a87",
      "metadata": {
        "id": "95cf6a87"
      },
      "outputs": [],
      "source": []
    }
  ],
  "metadata": {
    "kernelspec": {
      "display_name": "Python 3 (ipykernel)",
      "language": "python",
      "name": "python3"
    },
    "language_info": {
      "codemirror_mode": {
        "name": "ipython",
        "version": 3
      },
      "file_extension": ".py",
      "mimetype": "text/x-python",
      "name": "python",
      "nbconvert_exporter": "python",
      "pygments_lexer": "ipython3",
      "version": "3.10.9"
    },
    "colab": {
      "provenance": []
    }
  },
  "nbformat": 4,
  "nbformat_minor": 5
}