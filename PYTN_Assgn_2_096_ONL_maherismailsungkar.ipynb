{
  "cells": [
    {
      "cell_type": "markdown",
      "id": "a186b174",
      "metadata": {
        "id": "a186b174"
      },
      "source": [
        "# Background\n",
        "\n",
        "This dataset contains the location, address, type, sale price, and sale date of building units sold. A reference on the trickier fields:\n",
        "* BOROUGH : A digit code for the borough the property is located in; in order these are Manhattan (1), Bronx (2), Brooklyn (3), Queens (4), and Staten Island (5).\n",
        "* BLOCK; LOT :The combination of borough, block, and lot forms a unique key for property in New York City. Commonly called a BBL.\n",
        "* BUILDING CLASS AT PRESENT and BUILDING CLASS AT TIME OF SALE: : The type of building at various points in time.\n",
        "\n",
        "\n",
        "Note that because this is a financial transaction dataset, there are some points that need to be kept in mind:\n",
        "* Many sales occur with a nonsensically small dollar amount: $0 most commonly. These sales are actually transfers of deeds between parties: for example, parents transferring ownership to their home to a child after moving out for retirement.\n",
        "* This dataset uses the financial definition of a building/building unit, for tax purposes. In case a single entity owns the building in question, a sale covers the value of the entire building. In case a building is owned piecemeal by its residents (a condominium), a sale refers to a single apartment (or group of apartments) owned by some individual.link dataset:[di sini](https://www.kaggle.com/datasets/new-york-city/nyc-property-sales)\n"
      ]
    },
    {
      "cell_type": "markdown",
      "id": "4f0f6480",
      "metadata": {
        "id": "4f0f6480"
      },
      "source": [
        "# Loading Dataset¶"
      ]
    },
    {
      "cell_type": "code",
      "execution_count": null,
      "id": "ff32b8d2",
      "metadata": {
        "id": "ff32b8d2"
      },
      "outputs": [],
      "source": [
        "import pandas as pd\n",
        "\n",
        "# Muat dataset ke dalam DataFrame\n",
        "data = pd.read_csv('./Dataset/nyc-rolling-sales.csv')\n",
        "\n",
        "# Tampilkan informasi dasar dari dataset\n",
        "data_info = data.info()\n",
        "\n",
        "# Tampilkan statistik deskriptif dari dataset\n",
        "data_description = data.describe()\n",
        "\n",
        "data_info, data_description\n"
      ]
    },
    {
      "cell_type": "markdown",
      "id": "ce3856cd",
      "metadata": {
        "id": "ce3856cd"
      },
      "source": [
        "# Informasi Dasar dari Dataset:\n",
        "\n",
        "    Dataset ini terdiri dari 84,548 entri.\n",
        "    Ada 22 kolom dalam dataset.\n",
        "    Tidak ada nilai yang hilang (missing values) pada setiap kolom.\n",
        "    Terdapat beberapa kolom dengan tipe data objek yang mungkin perlu dikonversi, seperti kolom 'SALE PRICE', 'LAND SQUARE FEET', dan 'GROSS SQUARE FEET' yang seharusnya berisi nilai numerik.\n",
        "\n",
        "Statistik Deskriptif:\n",
        "\n",
        "    Kolom 'BOROUGH' memiliki nilai dari 1 hingga 5, yang mewakili daerah di New York City.\n",
        "    Kolom 'YEAR BUILT' memiliki beberapa entri dengan nilai 0, yang mungkin perlu diperbaiki atau dihapus.\n",
        "    Kolom 'SALE PRICE' saat ini berupa tipe data objek, jadi kita perlu mengubahnya menjadi tipe data numerik untuk analisis lebih lanjut.\n",
        "\n",
        "Selanjutnya, kita akan melanjutkan dengan pra-pemrosesan data."
      ]
    },
    {
      "cell_type": "code",
      "execution_count": null,
      "id": "9fc939c0",
      "metadata": {
        "id": "9fc939c0"
      },
      "outputs": [],
      "source": [
        "# Konversi kolom 'SALE PRICE', 'LAND SQUARE FEET', dan 'GROSS SQUARE FEET' ke tipe data numerik\n",
        "data['SALE PRICE'] = pd.to_numeric(data['SALE PRICE'], errors='coerce')\n",
        "data['LAND SQUARE FEET'] = pd.to_numeric(data['LAND SQUARE FEET'], errors='coerce')\n",
        "data['GROSS SQUARE FEET'] = pd.to_numeric(data['GROSS SQUARE FEET'], errors='coerce')\n",
        "\n",
        "# Filter out transaksi dengan 'SALE PRICE' sebesar $0\n",
        "data = data[data['SALE PRICE'] > 0]\n",
        "\n",
        "# Filter out data dengan 'YEAR BUILT' sebesar 0\n",
        "data = data[data['YEAR BUILT'] > 0]\n",
        "\n",
        "# Tampilkan informasi dataset setelah pra-pemrosesan\n",
        "data_info_cleaned = data.info()\n",
        "data_description_cleaned = data.describe()\n",
        "\n",
        "data_info_cleaned, data_description_cleaned\n"
      ]
    },
    {
      "cell_type": "markdown",
      "id": "e126dbce",
      "metadata": {
        "id": "e126dbce"
      },
      "source": [
        "# Informasi Dataset Setelah Pra-pemrosesan:\n",
        "\n",
        "    * Setelah menghilangkan transaksi dengan harga jual $0 dan bangunan dengan 'YEAR BUILT' sebesar 0, kita memiliki 55,449 entri.\n",
        "    * Kolom 'SALE PRICE', 'LAND SQUARE FEET', dan 'GROSS SQUARE FEET' telah dikonversi menjadi tipe data numerik.\n",
        "    * Ada nilai yang hilang di kolom 'LAND SQUARE FEET' dan 'GROSS SQUARE FEET', yang mungkin perlu ditangani nantinya tergantung analisis yang akan dilakukan.\n",
        "\n",
        "Statistik Deskriptif Setelah Pra-pemrosesan:\n",
        "\n",
        "    * Rata-rata harga jual properti adalah sekitar $1,471,886 dengan deviasi standar sebesar $12,573,380.\n",
        "    * Nilai minimum 'YEAR BUILT' adalah 1111, yang sepertinya merupakan kesalahan input dan mungkin perlu diperbaiki.\n",
        "    * Nilai maksimum dari 'SALE PRICE' adalah $2,210,000,000, menunjukkan bahwa ada beberapa properti yang dijual dengan harga yang sangat tinggi.\n",
        "\n",
        "Selanjutnya, kita akan melanjutkan dengan analisis statistik sesuai dengan rencana yang telah dibuat sebelumnya. Pertama, mari kita analisis Ukuran Tendensi Sentra"
      ]
    },
    {
      "cell_type": "markdown",
      "id": "b8adb6d4",
      "metadata": {
        "id": "b8adb6d4"
      },
      "source": [
        "# Menghitung Ukuran Tendensi Sentral: ¶"
      ]
    },
    {
      "cell_type": "code",
      "execution_count": null,
      "id": "4439d1ad",
      "metadata": {
        "id": "4439d1ad"
      },
      "outputs": [],
      "source": [
        "# Menghitung Ukuran Tendensi Sentral\n",
        "\n",
        "# Mean\n",
        "mean_sale_price = data['SALE PRICE'].mean()\n",
        "mean_land_square_feet = data['LAND SQUARE FEET'].mean()\n",
        "mean_gross_square_feet = data['GROSS SQUARE FEET'].mean()\n",
        "\n",
        "# Median\n",
        "median_sale_price = data['SALE PRICE'].median()\n",
        "median_land_square_feet = data['LAND SQUARE FEET'].median()\n",
        "median_gross_square_feet = data['GROSS SQUARE FEET'].median()\n",
        "\n",
        "# Modus\n",
        "mode_sale_price = data['SALE PRICE'].mode()[0]  # Mengambil nilai pertama jika ada beberapa mode\n",
        "mode_land_square_feet = data['LAND SQUARE FEET'].mode()[0]\n",
        "mode_gross_square_feet = data['GROSS SQUARE FEET'].mode()[0]\n",
        "\n",
        "mean_sale_price, median_sale_price, mode_sale_price, mean_land_square_feet, median_land_square_feet, mode_land_square_feet, mean_gross_square_feet, median_gross_square_feet, mode_gross_square_feet\n"
      ]
    },
    {
      "cell_type": "markdown",
      "id": "90e85d9f",
      "metadata": {
        "id": "90e85d9f"
      },
      "source": [
        "# Ukuran Tendensi Sentral:\n",
        "\n",
        "Harga Jual (SALE PRICE):\n",
        "\n",
        "    * Rata-rata (Mean): $1,471,886\n",
        "    * Median: $620,000\n",
        "    * Modus: $10 (Hal ini menarik karena walaupun kita telah memfilter harga $0, masih ada properti yang dijual dengan harga sangat rendah yaitu $10.)\n",
        "\n",
        "Luas Tanah (LAND SQUARE FEET):\n",
        "\n",
        "    * Rata-rata (Mean): 3,524.59 sqft\n",
        "    * Median: 2,300 sqft\n",
        "    * Modus: 0.0 sqft (Hal ini menunjukkan banyak properti yang memiliki luas tanah yang dicatat sebagai nol.)\n",
        "\n",
        "Luas Bangunan (GROSS SQUARE FEET):\n",
        "\n",
        "    * Rata-rata (Mean): 3,753.27 sqft\n",
        "    * Median: 1,606 sqft\n",
        "    * Modus: 0.0 sqft (Mirip dengan 'LAND SQUARE FEET', banyak properti yang memiliki luas bangunan yang dicatat sebagai nol.)\n",
        "\n",
        "Langkah berikutnya adalah menghitung Ukuran Penyebaran. Mari kita lakukan analisis tersebut."
      ]
    },
    {
      "cell_type": "markdown",
      "id": "c88e022f",
      "metadata": {
        "id": "c88e022f"
      },
      "source": [
        "# Menghitung Ukuran Penyebaran:¶"
      ]
    },
    {
      "cell_type": "code",
      "execution_count": null,
      "id": "832baf8a",
      "metadata": {
        "id": "832baf8a"
      },
      "outputs": [],
      "source": [
        "# Menghitung Ukuran Penyebaran\n",
        "\n",
        "# Rentang (Range)\n",
        "range_sale_price = data['SALE PRICE'].max() - data['SALE PRICE'].min()\n",
        "range_land_square_feet = data['LAND SQUARE FEET'].max() - data['LAND SQUARE FEET'].min()\n",
        "range_gross_square_feet = data['GROSS SQUARE FEET'].max() - data['GROSS SQUARE FEET'].min()\n",
        "\n",
        "# Varians\n",
        "variance_sale_price = data['SALE PRICE'].var()\n",
        "variance_land_square_feet = data['LAND SQUARE FEET'].var()\n",
        "variance_gross_square_feet = data['GROSS SQUARE FEET'].var()\n",
        "\n",
        "# Deviasi Standar (Standard Deviation)\n",
        "std_sale_price = data['SALE PRICE'].std()\n",
        "std_land_square_feet = data['LAND SQUARE FEET'].std()\n",
        "std_gross_square_feet = data['GROSS SQUARE FEET'].std()\n",
        "\n",
        "range_sale_price, variance_sale_price, std_sale_price, range_land_square_feet, variance_land_square_feet, std_land_square_feet, range_gross_square_feet, variance_gross_square_feet, std_gross_square_feet\n"
      ]
    },
    {
      "cell_type": "markdown",
      "id": "2a12e3f0",
      "metadata": {
        "id": "2a12e3f0"
      },
      "source": [
        "# Ukuran Penyebaran:\n",
        "\n",
        "Harga Jual (SALE PRICE):\n",
        "\n",
        "    * Rentang (Range): $2,209,999,999\n",
        "    * Varians: $158,089,890,250,701.7\n",
        "    * Deviasi Standar (Standard Deviation): $12,573,380.22\n",
        "\n",
        "Luas Tanah (LAND SQUARE FEET):\n",
        "\n",
        "    * Rentang (Range): 4,228,300 sqft\n",
        "    * Varians: 1,270,195,313.46 sqft^2\n",
        "    * Deviasi Standar (Standard Deviation): 35,639.80 sqft\n",
        "\n",
        "Luas Bangunan (GROSS SQUARE FEET):\n",
        "\n",
        "    * Rentang (Range): 3,750,565 sqft\n",
        "    * Varians: 949,879,275.15 sqft^2\n",
        "    * Deviasi Standar (Standard Deviation): 30,820.11 sqft\n",
        "\n",
        "Kita sekarang dapat melanjutkan dengan analisis Distribusi Data untuk mengetahui bagaimana distribusi data kita. Mari kita visualisasikan distribusi data untuk harga jual, luas tanah, dan luas bangunan menggunakan histogram."
      ]
    },
    {
      "cell_type": "code",
      "execution_count": null,
      "id": "c271fd63",
      "metadata": {
        "id": "c271fd63"
      },
      "outputs": [],
      "source": [
        "import matplotlib.pyplot as plt\n",
        "import seaborn as sns\n",
        "\n",
        "plt.figure(figsize=(20, 6))\n",
        "\n",
        "# Distribusi Harga Jual\n",
        "plt.subplot(1, 3, 1)\n",
        "sns.histplot(data['SALE PRICE'], bins=100, color='blue', kde=True)\n",
        "plt.title('Distribusi Harga Jual')\n",
        "plt.xlabel('Harga Jual')\n",
        "plt.ylabel('Frekuensi')\n",
        "plt.yscale('log')  # Menggunakan skala log untuk mempermudah visualisasi\n",
        "plt.grid(True, which=\"both\", ls=\"--\", linewidth=0.5)\n",
        "\n",
        "# Distribusi Luas Tanah\n",
        "plt.subplot(1, 3, 2)\n",
        "sns.histplot(data['LAND SQUARE FEET'].dropna(), bins=100, color='green', kde=True)  # Menghilangkan NaN values\n",
        "plt.title('Distribusi Luas Tanah')\n",
        "plt.xlabel('Luas Tanah (sqft)')\n",
        "plt.ylabel('Frekuensi')\n",
        "plt.yscale('log')\n",
        "plt.grid(True, which=\"both\", ls=\"--\", linewidth=0.5)\n",
        "\n",
        "# Distribusi Luas Bangunan\n",
        "plt.subplot(1, 3, 3)\n",
        "sns.histplot(data['GROSS SQUARE FEET'].dropna(), bins=100, color='red', kde=True)  # Menghilangkan NaN values\n",
        "plt.title('Distribusi Luas Bangunan')\n",
        "plt.xlabel('Luas Bangunan (sqft)')\n",
        "plt.ylabel('Frekuensi')\n",
        "plt.yscale('log')\n",
        "plt.grid(True, which=\"both\", ls=\"--\", linewidth=0.5)\n",
        "\n",
        "plt.tight_layout()\n",
        "plt.show()\n"
      ]
    },
    {
      "cell_type": "markdown",
      "id": "866f0f33",
      "metadata": {
        "id": "866f0f33"
      },
      "source": [
        "# Distribusi Data:\n",
        "\n",
        "Harga Jual (SALE PRICE):\n",
        "\n",
        "    Sebagian besar properti dijual dengan harga di bawah $2,000,000, tetapi ada beberapa properti dengan harga jual yang sangat tinggi, hingga $2,210,000"
      ]
    },
    {
      "cell_type": "markdown",
      "id": "77ae018b",
      "metadata": {
        "id": "77ae018b"
      },
      "source": [
        "# Interval Keyakinan\n",
        "\n",
        "Interval keyakinan memberikan perkiraan tentang rentang di mana rata-rata populasi mungkin berada, dengan tingkat keyakinan tertentu."
      ]
    },
    {
      "cell_type": "code",
      "execution_count": null,
      "id": "eb122b03",
      "metadata": {
        "id": "eb122b03"
      },
      "outputs": [],
      "source": [
        "import scipy.stats as stats\n",
        "\n",
        "confidence_level = 0.95\n",
        "degrees_freedom = data['SALE PRICE'].count() - 1\n",
        "mean_sale_price = data['SALE PRICE'].mean()\n",
        "std_error = data['SALE PRICE'].std() / (data['SALE PRICE'].count()**0.5)\n",
        "\n",
        "confidence_interval = stats.t.interval(confidence_level, degrees_freedom, mean_sale_price, std_error)\n",
        "print(\"95% Confidence Interval for Sale Price:\", confidence_interval)\n"
      ]
    },
    {
      "cell_type": "markdown",
      "id": "1c2a55a6",
      "metadata": {
        "id": "1c2a55a6"
      },
      "source": [
        "Dengan interval keyakinan 95%, kita dapat mengatakan bahwa kita memiliki keyakinan 95% bahwa rata-rata harga jual properti di New York City sebenarnya berada dalam kisaran \\$1,367,230 hingga \\$1,576,541."
      ]
    },
    {
      "cell_type": "markdown",
      "id": "90e7d319",
      "metadata": {
        "id": "90e7d319"
      },
      "source": [
        "# Pengujian Hipotesis\n",
        "\n",
        "Dalam bagian ini, kita akan memeriksa apakah ada perbedaan harga antara properti yang dibangun pada tahun 1900-2000 dengan yang dibangun setelah tahun 2001."
      ]
    },
    {
      "cell_type": "code",
      "execution_count": null,
      "id": "5a99dd0c",
      "metadata": {
        "id": "5a99dd0c"
      },
      "outputs": [],
      "source": [
        "group_1900_2000 = data[(data['YEAR BUILT'] >= 1900) & (data['YEAR BUILT'] <= 2000)]['SALE PRICE']\n",
        "group_after_2001 = data[data['YEAR BUILT'] > 2001]['SALE PRICE']\n",
        "\n",
        "t_stat, p_value = stats.ttest_ind(group_1900_2000, group_after_2001, equal_var=False)\n",
        "\n",
        "print(\"T-statistic:\", t_stat)\n",
        "print(\"P-value:\", p_value)\n"
      ]
    },
    {
      "cell_type": "markdown",
      "id": "5401507a",
      "metadata": {
        "id": "5401507a"
      },
      "source": [
        "T-statistik: Nilai -6.788 menunjukkan bahwa rata-rata sampel kita jauh lebih rendah dari rata-rata populasi yang diharapkan.\n",
        "    P-value: Dengan P-value mendekati 0, kita memiliki bukti kuat untuk menolak hipotesis nol, menunjukkan adanya perbedaan yang signifikan secara statistik.\n",
        "\n"
      ]
    },
    {
      "cell_type": "code",
      "execution_count": null,
      "id": "8ccb450a",
      "metadata": {
        "id": "8ccb450a"
      },
      "outputs": [],
      "source": []
    }
  ],
  "metadata": {
    "kernelspec": {
      "display_name": "Python 3 (ipykernel)",
      "language": "python",
      "name": "python3"
    },
    "language_info": {
      "codemirror_mode": {
        "name": "ipython",
        "version": 3
      },
      "file_extension": ".py",
      "mimetype": "text/x-python",
      "name": "python",
      "nbconvert_exporter": "python",
      "pygments_lexer": "ipython3",
      "version": "3.10.9"
    },
    "colab": {
      "provenance": []
    }
  },
  "nbformat": 4,
  "nbformat_minor": 5
}